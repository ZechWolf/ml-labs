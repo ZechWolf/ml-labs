{
 "cells": [
  {
   "cell_type": "markdown",
   "metadata": {},
   "source": [
    "# Lab 3 Report\n",
    "\n",
    "Prepared by Zech Wolf"
   ]
  },
  {
   "cell_type": "markdown",
   "metadata": {},
   "source": [
    "## 1. Preparation and overview"
   ]
  },
  {
   "cell_type": "markdown",
   "metadata": {},
   "source": [
    "### 1.1 Business understanding\n",
    "\n",
    "write stuff here\n",
    "\n",
    "https://www.kaggle.com/datasets/whenamancodes/students-performance-in-exams"
   ]
  },
  {
   "cell_type": "markdown",
   "metadata": {},
   "source": [
    "### 1.2 Data preprocessing\n",
    "\n",
    "There are three steps to prepare this dataset for classification with logistic regression\n",
    "* Discretize math score as \"failing\", \"passing\", or \"exceptional\" (0,1,2)\n",
    "* One hot encode the categorical features\n",
    "* Standardize writing and reading test grades as z-scores"
   ]
  },
  {
   "cell_type": "code",
   "execution_count": 1,
   "metadata": {},
   "outputs": [
    {
     "name": "stdout",
     "output_type": "stream",
     "text": [
      "<class 'pandas.core.frame.DataFrame'>\n",
      "RangeIndex: 1000 entries, 0 to 999\n",
      "Data columns (total 8 columns):\n",
      " #   Column                       Non-Null Count  Dtype \n",
      "---  ------                       --------------  ----- \n",
      " 0   gender                       1000 non-null   object\n",
      " 1   race/ethnicity               1000 non-null   object\n",
      " 2   parental level of education  1000 non-null   object\n",
      " 3   lunch                        1000 non-null   object\n",
      " 4   test preparation course      1000 non-null   object\n",
      " 5   math score                   1000 non-null   int64 \n",
      " 6   reading score                1000 non-null   int64 \n",
      " 7   writing score                1000 non-null   int64 \n",
      "dtypes: int64(3), object(5)\n",
      "memory usage: 62.6+ KB\n"
     ]
    }
   ],
   "source": [
    "import pandas as pd\n",
    "\n",
    "#Read in dataframe\n",
    "df = pd.read_csv(\"datasets/exams.csv\")\n",
    "df.info()"
   ]
  },
  {
   "cell_type": "code",
   "execution_count": 2,
   "metadata": {},
   "outputs": [
    {
     "name": "stderr",
     "output_type": "stream",
     "text": [
      "/home/zech/anaconda3/envs/mlenv/lib/python3.8/site-packages/scipy/__init__.py:146: UserWarning: A NumPy version >=1.16.5 and <1.23.0 is required for this version of SciPy (detected version 1.23.1\n",
      "  warnings.warn(f\"A NumPy version >={np_minversion} and <{np_maxversion}\"\n"
     ]
    }
   ],
   "source": [
    "import numpy as np\n",
    "\n",
    "#Encode parental education as an ordinal feature\n",
    "def encode_ed(edlevel: str):\n",
    "    ordering = {\"some high school\": 1, \"high school\": 2, \"some college\": 3,\n",
    "                \"associate's degree\": 4, \"bachelor's degree\": 5, \"master's degree\": 6}\n",
    "\n",
    "    return ordering[edlevel]\n",
    "\n",
    "encode_ed = np.vectorize(encode_ed)\n",
    "df[\"parent_ed\"] = encode_ed(df[\"parental level of education\"])\n",
    "\n",
    "#Create target variable from math score\n",
    "def encode_score(score: int):\n",
    "    if score < 70: #failing\n",
    "        return 0\n",
    "    elif score >= 70 and score < 83: #passing\n",
    "        return 1\n",
    "    else: #exceptional\n",
    "        return 2\n",
    "\n",
    "encode_score = np.vectorize(encode_score)\n",
    "df[\"math_score\"] = encode_score(df[\"math score\"])\n",
    "\n",
    "#One hot encoding for the remaining nominal features\n",
    "df = pd.get_dummies(data=df, columns=[\"gender\", \"race/ethnicity\", \"lunch\", \"test preparation course\"], drop_first=True)\n",
    "\n",
    "#Remove original unprocessed columns\n",
    "df.drop(columns=[\"parental level of education\", \"math score\"], inplace=True) #drop old education column\n",
    "\n",
    "#Normalize numeric columns\n",
    "from sklearn.preprocessing import StandardScaler\n",
    "\n",
    "df[[\"writing score\", \"reading score\"]] = StandardScaler().fit_transform(df[[\"writing score\", \"reading score\"]])"
   ]
  },
  {
   "cell_type": "code",
   "execution_count": 3,
   "metadata": {},
   "outputs": [
    {
     "name": "stdout",
     "output_type": "stream",
     "text": [
      "<class 'pandas.core.frame.DataFrame'>\n",
      "RangeIndex: 1000 entries, 0 to 999\n",
      "Data columns (total 11 columns):\n",
      " #   Column                        Non-Null Count  Dtype  \n",
      "---  ------                        --------------  -----  \n",
      " 0   reading score                 1000 non-null   float64\n",
      " 1   writing score                 1000 non-null   float64\n",
      " 2   parent_ed                     1000 non-null   int64  \n",
      " 3   math_score                    1000 non-null   int64  \n",
      " 4   gender_male                   1000 non-null   uint8  \n",
      " 5   race/ethnicity_group B        1000 non-null   uint8  \n",
      " 6   race/ethnicity_group C        1000 non-null   uint8  \n",
      " 7   race/ethnicity_group D        1000 non-null   uint8  \n",
      " 8   race/ethnicity_group E        1000 non-null   uint8  \n",
      " 9   lunch_standard                1000 non-null   uint8  \n",
      " 10  test preparation course_none  1000 non-null   uint8  \n",
      "dtypes: float64(2), int64(2), uint8(7)\n",
      "memory usage: 38.2 KB\n"
     ]
    },
    {
     "data": {
      "text/plain": [
       "(array([0, 1, 2]), array([566, 273, 161]))"
      ]
     },
     "execution_count": 3,
     "metadata": {},
     "output_type": "execute_result"
    }
   ],
   "source": [
    "df.info()\n",
    "np.unique(df[\"math_score\"], return_counts=True)"
   ]
  },
  {
   "cell_type": "markdown",
   "metadata": {},
   "source": [
    "### 1.3 Train-test split"
   ]
  },
  {
   "cell_type": "code",
   "execution_count": 4,
   "metadata": {},
   "outputs": [],
   "source": [
    "from sklearn.model_selection import train_test_split\n",
    "\n",
    "#Get X and y arrays from df\n",
    "X = df.drop(columns=[\"math_score\"]).to_numpy()\n",
    "y = df[\"math_score\"].to_numpy()\n",
    "\n",
    "X_train, X_test, y_train, y_test = train_test_split(X, y, train_size=0.8) #80/20 split"
   ]
  },
  {
   "cell_type": "markdown",
   "metadata": {},
   "source": [
    "Explanation"
   ]
  },
  {
   "cell_type": "markdown",
   "metadata": {},
   "source": [
    "## 2. Modeling"
   ]
  },
  {
   "cell_type": "markdown",
   "metadata": {},
   "source": [
    "### 2.1 Implementation"
   ]
  },
  {
   "cell_type": "code",
   "execution_count": 60,
   "metadata": {},
   "outputs": [],
   "source": [
    "#The general template used here is taken and adpated from several different parts of the example notebook\n",
    "import numpy as np\n",
    "from scipy.special import expit\n",
    "\n",
    "class BinaryLogisticRegression:\n",
    "    \"\"\"\n",
    "    This is the underlying class used for one-versus-all in the main logistic regression\n",
    "    \"\"\"\n",
    "    def __init__(self, penalty=\"l2\", solver=\"sa\", C=1.0, eta=0.1, iterations=20):\n",
    "        self.eta = eta\n",
    "        self.iters = iterations\n",
    "        self.solver = solver\n",
    "        self.penalty = penalty\n",
    "        self.C = C #store all the hyperparameters for use later\n",
    "    \n",
    "    def __str__(self):\n",
    "        return 'Base Binary Logistic Regression Object, Not Trainable'\n",
    "    \n",
    "    # convenience, private and static:\n",
    "    @staticmethod\n",
    "    def _sigmoid(theta):\n",
    "        # increase stability, redefine sigmoid operation\n",
    "        return expit(theta) #1/(1+np.exp(-theta))\n",
    "    \n",
    "    @staticmethod\n",
    "    def _add_intercept(X):\n",
    "        return np.hstack((np.ones((X.shape[0],1)),X)) # add bias term\n",
    "\n",
    "    @staticmethod\n",
    "    def _get_ddw_regularization(gradient, w, penalty, C):\n",
    "        \"\"\"Return the gradient adjusted by the first derivative of the regularization term\"\"\"\n",
    "        if penalty == \"l1\":\n",
    "            gradient[1:] -= C * np.sign(w[1:]) #use the sign function to get the derivative of |w|\n",
    "        \n",
    "        elif penalty == \"l2\":\n",
    "            gradient[1:] -= C * 2*w[1:]\n",
    "\n",
    "        elif penalty == \"elasticnet\": #combine l1 and l2 terms\n",
    "            C1 = C\n",
    "            C2 = C\n",
    "\n",
    "            if type(C) == tuple: #get individual C terms\n",
    "                C1 = C[0]\n",
    "                C2 = C[1]\n",
    "\n",
    "            gradient[1:] -= (C1 * np.sign(w[1:])) + (C2 * 2*w[1:])\n",
    "\n",
    "        else: #none - don't apply regularization\n",
    "            pass\n",
    "\n",
    "        return gradient\n",
    "\n",
    "    def _get_gradient(self, X, y):\n",
    "        \"\"\"\n",
    "        Calculate the gradient according to solver and penalty type\n",
    "        \"\"\"\n",
    "        #Make initial calculation using given solver\n",
    "        gradient = 0\n",
    "        \n",
    "        ### STEEPEST ASCENT ###\n",
    "        if self.solver == \"sa\":\n",
    "            ydiff = y - self.predict_proba(X,add_intercept=False).ravel() # get y difference\n",
    "            gradient = np.mean(X * ydiff[:,np.newaxis], axis=0) # make ydiff a column vector and multiply through\n",
    "            gradient = gradient.reshape(self.w_.shape)\n",
    "\n",
    "        ### STOCHASTIC GRADIENT ASCENT ###\n",
    "        elif self.solver == \"sga\":\n",
    "            idx = np.random.randint(0, len(y)) #index of random instance of X\n",
    "            ydiff = y[idx] - self.predict_proba(X[idx], add_intercept=False) #calculate ydiff for the random instance of X\n",
    "            gradient = X[idx] * ydiff[:,np.newaxis] #approximation of gradient using random instance of X\n",
    "            gradient = gradient.reshape(self.w_.shape)\n",
    "\n",
    "        ### NEWTON'S METHOD ###\n",
    "        elif self.solver == \"newton\":\n",
    "            g = self.predict_proba(X,add_intercept=False).ravel() # get sigmoid value for all classes\n",
    "\n",
    "            #Calculate the 2nd derivative of the regularization term for use in the Hessian\n",
    "            h_reg = 0\n",
    "            if self.penalty == \"l1\" or self.penalty == \"none\": #just being explicit here, l1 has no effect on hessian\n",
    "                h_reg = 0 #2nd derivative of C*|w| = 0\n",
    "            elif self.penalty == \"l2\" or self.penalty == \"elasticnet\":\n",
    "                C2 = self.C[1] if type(self.C) == tuple else self.C\n",
    "                h_reg = 2 * C2\n",
    "            \n",
    "            hessian = X.T @ np.diag(g*(1-g)) @ X - h_reg # calculate the hessian with appropriate regularization term\n",
    "\n",
    "            ydiff = y - g # get y difference\n",
    "            gradient = np.sum(X * ydiff[:,np.newaxis], axis=0) # make ydiff a column vector and multiply through\n",
    "            gradient = gradient.reshape(self.w_.shape)\n",
    "\n",
    "            #Apply regularization to the gradient before multiplying with inverse of the Hessian\n",
    "            return np.linalg.pinv(hessian) @ self._get_ddw_regularization(gradient, self.w_, self.penalty, self.C)\n",
    "\n",
    "        elif self.solver == \"mse\":\n",
    "            g = self.predict_proba(X, add_intercept=False).ravel()\n",
    "            ydiff = y - g\n",
    "            gradient = -2*np.mean((ydiff * g * (1 - g))[:,np.newaxis] * X, axis=0)\n",
    "            gradient = gradient.reshape(self.w_.shape)\n",
    "\n",
    "        #Apply regularization\n",
    "        gradient = self._get_ddw_regularization(gradient, self.w_, self.penalty, self.C)\n",
    "\n",
    "        return gradient #final result\n",
    "    \n",
    "    def fit(self, X, y):\n",
    "        Xb = self._add_intercept(X) # add bias term\n",
    "        num_samples, num_features = Xb.shape\n",
    "        \n",
    "        self.w_ = np.zeros((num_features,1)) # init weight vector to zeros\n",
    "        \n",
    "        for _ in range(self.iters):\n",
    "            gradient = self._get_gradient(Xb,y)\n",
    "            self.w_ += gradient*self.eta # multiply by learning rate\n",
    "\n",
    "    def predict_proba(self, X, add_intercept=True):\n",
    "        # add bias term if requested\n",
    "        Xb = self._add_intercept(X) if add_intercept else X\n",
    "        return self._sigmoid(Xb @ self.w_) # return the probability y=1\n",
    "    \n",
    "    def predict(self,X):\n",
    "        return (self.predict_proba(X)>0.5) #return the actual prediction\n",
    "\n",
    "class LogisticRegression:\n",
    "    def __init__(self, penalty=\"l2\", solver=\"sa\", C=1.0, eta=0.1, iterations=20):\n",
    "        \"\"\"\n",
    "        Construct a multi-class logistic regression classifier.\n",
    "        This class implements one-versus-all classification using BinaryLogisticRegression classifiers.\n",
    "\n",
    "        Parameters:\n",
    "        -----------\n",
    "        penalty : regularization strategy as one of {\"none\", \"l1\", \"l2\", \"elasticnet\"}  *elasticnet is both l1 and l2\n",
    "        solver : optimization strategy as one of {\"sa\", \"sga\", \"newton\", \"bfgs\"}\n",
    "        C : regularization cost (ignored if penalty = \"none\"). If using penalty=\"elasticnet\", C can be a 2-tuple containing\n",
    "        the C values for each regularization term (a single float input will be interpreted as use the same C for both terms)\n",
    "        eta : gradient step amount when updating weights\n",
    "        iterations : number of iterations before stopping\n",
    "        \"\"\"\n",
    "        self.eta = eta\n",
    "        self.iters = iterations\n",
    "        self.solver = solver\n",
    "        self.penalty = penalty\n",
    "        self.C = C\n",
    "    \n",
    "    def __str__(self):\n",
    "        if(hasattr(self,'w_')):\n",
    "            return 'MultiClass Logistic Regression Object with coefficients:\\n'+ str(self.w_) # if we have trained the object\n",
    "        else:\n",
    "            return 'Untrained MultiClass Logistic Regression Object'\n",
    "        \n",
    "    def fit(self,X,y):\n",
    "        num_samples, num_features = X.shape\n",
    "        self.unique_ = np.unique(y) # get each unique class value\n",
    "        num_unique_classes = len(self.unique_)\n",
    "        self.classifiers_ = [] # will fill this array with binary classifiers\n",
    "        \n",
    "        for i,yval in enumerate(self.unique_): # for each unique value\n",
    "            y_binary = (y==yval) # create a binary problem\n",
    "            # train the binary classifier for this class\n",
    "            blr = BinaryLogisticRegression(self.penalty, self.solver, self.C, self.eta, self.iters)\n",
    "            blr.fit(X,y_binary)\n",
    "            # add the trained classifier to the list\n",
    "            self.classifiers_.append(blr)\n",
    "            \n",
    "        # save all the weights into one matrix, separate column for each class\n",
    "        self.w_ = np.hstack([x.w_ for x in self.classifiers_]).T\n",
    "        \n",
    "    def predict_proba(self,X):\n",
    "        probs = []\n",
    "        for blr in self.classifiers_:\n",
    "            probs.append(blr.predict_proba(X)) # get probability for each classifier\n",
    "        \n",
    "        return np.hstack(probs) # make into single matrix\n",
    "    \n",
    "    def predict(self,X):\n",
    "        return self.unique_[np.argmax(self.predict_proba(X),axis=1)] # take argmax along row"
   ]
  },
  {
   "cell_type": "markdown",
   "metadata": {},
   "source": [
    "### 2.2 Model tuning"
   ]
  },
  {
   "cell_type": "code",
   "execution_count": 62,
   "metadata": {},
   "outputs": [
    {
     "name": "stdout",
     "output_type": "stream",
     "text": [
      "[[  2   0 114]\n",
      " [  6   0  45]\n",
      " [  7   0  26]]\n",
      "0.26837338906304425\n",
      "0.05706772182925976\n",
      "0.14\n"
     ]
    }
   ],
   "source": [
    "from sklearn.metrics import confusion_matrix, accuracy_score, recall_score, f1_score, balanced_accuracy_score\n",
    "\n",
    "lr = LogisticRegression(penalty=\"none\", solver=\"mse\", C=.001, iterations=1000)\n",
    "lr.fit(X_train, y_train)\n",
    "y_pred = lr.predict(X_test)\n",
    "print(confusion_matrix(y_test, y_pred))\n",
    "print(recall_score(y_test, y_pred, average=\"macro\"))\n",
    "print(f1_score(y_test, y_pred, average=\"weighted\"))\n",
    "print(accuracy_score(y_test, y_pred))"
   ]
  },
  {
   "cell_type": "code",
   "execution_count": 61,
   "metadata": {},
   "outputs": [
    {
     "name": "stdout",
     "output_type": "stream",
     "text": [
      "[[107   7   0]\n",
      " [ 10  41   4]\n",
      " [  0  12  19]]\n",
      "0.835\n",
      "0.8332129786477612\n"
     ]
    },
    {
     "data": {
      "text/plain": [
       "<AxesSubplot:>"
      ]
     },
     "execution_count": 61,
     "metadata": {},
     "output_type": "execute_result"
    },
    {
     "data": {
      "image/png": "[encoded data removed]",
      "text/plain": [
       "<Figure size 640x480 with 1 Axes>"
      ]
     },
     "metadata": {},
     "output_type": "display_data"
    }
   ],
   "source": [
    "from sklearn.linear_model import LogisticRegression as SKLR\n",
    "import seaborn as sns\n",
    "\n",
    "lr = SKLR(solver=\"newton-cg\", )\n",
    "lr.fit(X_train, y_train)\n",
    "y_pred = lr.predict(X_test)\n",
    "print(confusion_matrix(y_test, y_pred))\n",
    "print(accuracy_score(y_test, y_pred))\n",
    "print(f1_score(y_test, y_pred, average=\"weighted\"))\n",
    "\n",
    "sns.heatmap(confusion_matrix(y_test,y_pred), annot=True, cbar=False)"
   ]
  },
  {
   "cell_type": "code",
   "execution_count": 91,
   "metadata": {},
   "outputs": [
    {
     "data": {
      "text/html": [
       "<div>\n",
       "<style scoped>\n",
       "    .dataframe tbody tr th:only-of-type {\n",
       "        vertical-align: middle;\n",
       "    }\n",
       "\n",
       "    .dataframe tbody tr th {\n",
       "        vertical-align: top;\n",
       "    }\n",
       "\n",
       "    .dataframe thead th {\n",
       "        text-align: right;\n",
       "    }\n",
       "</style>\n",
       "<table border=\"1\" class=\"dataframe\">\n",
       "  <thead>\n",
       "    <tr style=\"text-align: right;\">\n",
       "      <th></th>\n",
       "      <th>solver</th>\n",
       "      <th>C</th>\n",
       "      <th>f1_score</th>\n",
       "    </tr>\n",
       "  </thead>\n",
       "  <tbody>\n",
       "    <tr>\n",
       "      <th>0</th>\n",
       "      <td>sa</td>\n",
       "      <td>0.0001</td>\n",
       "      <td>0.798106</td>\n",
       "    </tr>\n",
       "    <tr>\n",
       "      <th>0</th>\n",
       "      <td>sa</td>\n",
       "      <td>0.0010</td>\n",
       "      <td>0.792782</td>\n",
       "    </tr>\n",
       "    <tr>\n",
       "      <th>0</th>\n",
       "      <td>sa</td>\n",
       "      <td>0.0100</td>\n",
       "      <td>0.728405</td>\n",
       "    </tr>\n",
       "    <tr>\n",
       "      <th>0</th>\n",
       "      <td>sa</td>\n",
       "      <td>0.1000</td>\n",
       "      <td>0.567698</td>\n",
       "    </tr>\n",
       "    <tr>\n",
       "      <th>0</th>\n",
       "      <td>sa</td>\n",
       "      <td>1.0000</td>\n",
       "      <td>0.413885</td>\n",
       "    </tr>\n",
       "    <tr>\n",
       "      <th>0</th>\n",
       "      <td>sga</td>\n",
       "      <td>0.0001</td>\n",
       "      <td>0.665631</td>\n",
       "    </tr>\n",
       "    <tr>\n",
       "      <th>0</th>\n",
       "      <td>sga</td>\n",
       "      <td>0.0010</td>\n",
       "      <td>0.680004</td>\n",
       "    </tr>\n",
       "    <tr>\n",
       "      <th>0</th>\n",
       "      <td>sga</td>\n",
       "      <td>0.0100</td>\n",
       "      <td>0.669383</td>\n",
       "    </tr>\n",
       "    <tr>\n",
       "      <th>0</th>\n",
       "      <td>sga</td>\n",
       "      <td>0.1000</td>\n",
       "      <td>0.535627</td>\n",
       "    </tr>\n",
       "    <tr>\n",
       "      <th>0</th>\n",
       "      <td>sga</td>\n",
       "      <td>1.0000</td>\n",
       "      <td>0.545923</td>\n",
       "    </tr>\n",
       "    <tr>\n",
       "      <th>0</th>\n",
       "      <td>newton</td>\n",
       "      <td>0.0001</td>\n",
       "      <td>0.801298</td>\n",
       "    </tr>\n",
       "    <tr>\n",
       "      <th>0</th>\n",
       "      <td>newton</td>\n",
       "      <td>0.0010</td>\n",
       "      <td>0.801298</td>\n",
       "    </tr>\n",
       "    <tr>\n",
       "      <th>0</th>\n",
       "      <td>newton</td>\n",
       "      <td>0.0100</td>\n",
       "      <td>0.801298</td>\n",
       "    </tr>\n",
       "    <tr>\n",
       "      <th>0</th>\n",
       "      <td>newton</td>\n",
       "      <td>0.1000</td>\n",
       "      <td>0.805562</td>\n",
       "    </tr>\n",
       "    <tr>\n",
       "      <th>0</th>\n",
       "      <td>newton</td>\n",
       "      <td>1.0000</td>\n",
       "      <td>0.061620</td>\n",
       "    </tr>\n",
       "  </tbody>\n",
       "</table>\n",
       "</div>"
      ],
      "text/plain": [
       "   solver       C  f1_score\n",
       "0      sa  0.0001  0.798106\n",
       "0      sa  0.0010  0.792782\n",
       "0      sa  0.0100  0.728405\n",
       "0      sa  0.1000  0.567698\n",
       "0      sa  1.0000  0.413885\n",
       "0     sga  0.0001  0.665631\n",
       "0     sga  0.0010  0.680004\n",
       "0     sga  0.0100  0.669383\n",
       "0     sga  0.1000  0.535627\n",
       "0     sga  1.0000  0.545923\n",
       "0  newton  0.0001  0.801298\n",
       "0  newton  0.0010  0.801298\n",
       "0  newton  0.0100  0.801298\n",
       "0  newton  0.1000  0.805562\n",
       "0  newton  1.0000  0.061620"
      ]
     },
     "execution_count": 91,
     "metadata": {},
     "output_type": "execute_result"
    }
   ],
   "source": [
    "from itertools import product\n",
    "from sklearn.metrics import confusion_matrix, accuracy_score\n",
    "import pandas as pd\n",
    "\n",
    "solvers = [\"sa\", \"sga\", \"newton\"]\n",
    "#penalties = [\"none\", \"l1\", \"l2\", \"elasticnet\"]\n",
    "C = [0.0001, 0.001, 0.01, 0.1, 1]\n",
    "\n",
    "parameters = product(solvers, C)\n",
    "\n",
    "results = list()\n",
    "\n",
    "df = pd.DataFrame(columns=[\"solver\", \"C\", \"f1_score\"])\n",
    "for p in parameters:\n",
    "    iters = 1000 if p[0] == \"newton\" else 10000\n",
    "    lr = LogisticRegression(penalty=\"l2\", solver=p[0], C=p[1], iterations=iters)\n",
    "    lr.fit(X_train, y_train)\n",
    "    \n",
    "    y_pred = lr.predict(X_test)\n",
    "    row = pd.DataFrame({\"solver\": [p[0]], \"C\": [p[1]], \"f1_score\": [f1_score(y_test, y_pred, average=\"weighted\")]})\n",
    "    df = pd.concat([df, row])\n",
    "\n",
    "df"
   ]
  },
  {
   "cell_type": "code",
   "execution_count": 96,
   "metadata": {},
   "outputs": [
    {
     "data": {
      "text/plain": [
       "Text(0.5, 1.0, 'F1 Score vs. C')"
      ]
     },
     "execution_count": 96,
     "metadata": {},
     "output_type": "execute_result"
    },
    {
     "data": {
      "image/png": "[encoded data removed]",
      "text/plain": [
       "<Figure size 640x480 with 1 Axes>"
      ]
     },
     "metadata": {},
     "output_type": "display_data"
    }
   ],
   "source": [
    "import seaborn as sns\n",
    "import matplotlib.pyplot as plt\n",
    "\n",
    "for s in [\"sa\", \"sga\", \"newton\"]:\n",
    "    data = df[df.solver == s]\n",
    "    plt.plot(data[\"C\"], data[\"f1_score\"])\n",
    "\n",
    "plt.legend([\"sa\", \"sga\", \"newton\"])\n",
    "plt.xlabel(\"C\")\n",
    "plt.ylabel(\"F1 Score\")\n",
    "plt.xscale(\"log\")\n",
    "plt.title(\"F1 Score vs. C\")"
   ]
  },
  {
   "cell_type": "markdown",
   "metadata": {},
   "source": [
    "## 4. Exceptional work\n",
    "\n",
    "### 4.1 Mean squared error logistic regression"
   ]
  },
  {
   "cell_type": "markdown",
   "metadata": {},
   "source": [
    "https://towardsdatascience.com/why-not-mse-as-a-loss-function-for-logistic-regression-589816b5e03c"
   ]
  },
  {
   "cell_type": "markdown",
   "metadata": {},
   "source": []
  }
 ],
 "metadata": {
  "kernelspec": {
   "display_name": "Python 3.8.13 ('mlenv')",
   "language": "python",
   "name": "python3"
  },
  "language_info": {
   "codemirror_mode": {
    "name": "ipython",
    "version": 3
   },
   "file_extension": ".py",
   "mimetype": "text/x-python",
   "name": "python",
   "nbconvert_exporter": "python",
   "pygments_lexer": "ipython3",
   "version": "3.8.13"
  },
  "orig_nbformat": 4,
  "vscode": {
   "interpreter": {
    "hash": "a2b76c06a6a9823cc670680360b93737c31e051c9eb2b7e2fa79d5c16cf7eced"
   }
  }
 },
 "nbformat": 4,
 "nbformat_minor": 2
}
