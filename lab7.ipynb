{
 "cells": [
  {
   "cell_type": "markdown",
   "metadata": {},
   "source": [
    "# Lab 7 Report\n",
    "\n",
    "Prepared by Zech Wolf"
   ]
  },
  {
   "cell_type": "markdown",
   "metadata": {},
   "source": [
    "## 1. Data preparation\n",
    "\n",
    "The dataset used in this report is the Sentiment140 dataset, which consists of 1.6 million tweets. The target variable is the tweet's sentiment, on a scale of 0 (negative) to 4(positive), with 2 being neutral.\n",
    "\n",
    "\n",
    "As distributed, there were some formatting issues with the CSV. I added the column names to the top of the CSV file, and used an auto-fix in VS Code to standardize the line separating characters, which were causing a problem with the Pandas read_csv function.\n",
    "\n",
    "Dataset source: https://www.kaggle.com/datasets/kazanova/sentiment140"
   ]
  },
  {
   "attachments": {},
   "cell_type": "markdown",
   "metadata": {},
   "source": [
    "### 1.1 Preprocessing\n",
    "\n",
    "The dataset needs to be cleaned up and formatted to facilitate the learning task. A few "
   ]
  },
  {
   "cell_type": "code",
   "execution_count": 1,
   "metadata": {},
   "outputs": [],
   "source": [
    "import pandas as pd\n",
    "\n",
    "df = pd.read_csv(\"datasets/training.1600000.processed.noemoticon.csv\")\n",
    "df.target.replace(4, 1, inplace=True)"
   ]
  },
  {
   "cell_type": "code",
   "execution_count": 21,
   "metadata": {},
   "outputs": [],
   "source": [
    "from nltk.corpus import stopwords\n",
    "from nltk.stem import SnowballStemmer\n",
    "from nltk.tokenize import word_tokenize, WhitespaceTokenizer\n",
    "\n",
    "stemmer = SnowballStemmer(\"english\")\n",
    "sw = set(stopwords.words(\"english\"))\n",
    "\n",
    "def filter(token):\n",
    "    if token[0] == \"@\":\n",
    "        return \"USERNAME\"\n",
    "    if token.startswith((\"https://\",\"http://\")):\n",
    "        return \"URL\"\n",
    "    \n",
    "    return stemmer.stem(token)\n",
    "\n",
    "ws_tok = WhitespaceTokenizer()\n",
    "def process(text):\n",
    "    text = \" \".join([filter(w.lower()) for w in ws_tok.tokenize(text) if w not in sw])\n",
    "    return text\n",
    "\n",
    "\n",
    "PREPROCESS = False\n",
    "\n",
    "if PREPROCESS:\n",
    "    df[\"text_preprocessed\"] = df.text.apply(process)\n",
    "    texts = df.text_preprocessed"
   ]
  },
  {
   "cell_type": "code",
   "execution_count": 2,
   "metadata": {},
   "outputs": [],
   "source": [
    "import pandas as pd\n",
    "\n",
    "#Save or load the preprocessed text\n",
    "SAVE = False\n",
    "READ = True\n",
    "\n",
    "if SAVE:\n",
    "    df.text_preprocessed.to_pickle(\"datasets/text_preprocessed.pkl\")\n",
    "\n",
    "if READ:\n",
    "    texts = pd.read_pickle(\"datasets/text_preprocessed.pkl\")"
   ]
  },
  {
   "cell_type": "code",
   "execution_count": 3,
   "metadata": {},
   "outputs": [],
   "source": [
    "from keras.preprocessing.text import Tokenizer\n",
    "from keras.preprocessing.sequence import pad_sequences\n",
    "\n",
    "tokenizer = Tokenizer()\n",
    "tokenizer.fit_on_texts(texts)\n",
    "seq = tokenizer.texts_to_sequences(texts)\n",
    "X = pad_sequences(seq) #pad to length of longest sequence\n",
    "y = df.target.to_numpy()"
   ]
  },
  {
   "cell_type": "code",
   "execution_count": 4,
   "metadata": {},
   "outputs": [
    {
     "name": "stdout",
     "output_type": "stream",
     "text": [
      "(1600000, 118)\n",
      "288686\n"
     ]
    }
   ],
   "source": [
    "import numpy as np\n",
    "\n",
    "print(X.shape)\n",
    "print(np.max(X))"
   ]
  },
  {
   "attachments": {},
   "cell_type": "markdown",
   "metadata": {},
   "source": [
    "The final preprocessed datset is represented by padded sequences 118 tokens in length each. The vocabulary size is about 290,000 words"
   ]
  },
  {
   "attachments": {},
   "cell_type": "markdown",
   "metadata": {},
   "source": [
    "### 1.2 Train-test split"
   ]
  },
  {
   "cell_type": "code",
   "execution_count": 5,
   "metadata": {},
   "outputs": [],
   "source": [
    "from sklearn.model_selection import train_test_split\n",
    "\n",
    "X_train, X_test, y_train, y_test = train_test_split(X, y, train_size=0.8, stratify=y, random_state=1234)"
   ]
  },
  {
   "attachments": {},
   "cell_type": "markdown",
   "metadata": {},
   "source": [
    "## 2. Modeling\n",
    "\n",
    "Two RNN architectures are implemented with different parameters to create four different models. The models are compared to discover which architecture and parameter set performs the best."
   ]
  },
  {
   "attachments": {},
   "cell_type": "markdown",
   "metadata": {},
   "source": [
    "### 2.1 Importing GloVe embeddings\n",
    "\n",
    "All models make use of pretrained GloVe word embeddings, specifically the 200-dimensional weights trained on a Twitter dataset.\n",
    "\n",
    "https://nlp.stanford.edu/projects/glove/"
   ]
  },
  {
   "cell_type": "code",
   "execution_count": 6,
   "metadata": {},
   "outputs": [
    {
     "name": "stdout",
     "output_type": "stream",
     "text": [
      "Found 1193514 word vectors.\n"
     ]
    }
   ],
   "source": [
    "#Code adapted from example notebook and keras docs\n",
    "\n",
    "word_index = tokenizer.word_index\n",
    "\n",
    "embeddings_index = {}\n",
    "\n",
    "f = open(\"datasets/glove.twitter.27B.200d.txt\", encoding=\"utf8\")\n",
    "# save key/array pairs of the embeddings\n",
    "#  the key of the dictionary is the word, the array is the embedding\n",
    "for line in f:\n",
    "    values = line.split()\n",
    "    word = values[0]\n",
    "    coefs = np.asarray(values[1:], dtype='float32')\n",
    "    embeddings_index[word] = coefs\n",
    "f.close()\n",
    "\n",
    "print('Found %s word vectors.' % len(embeddings_index))"
   ]
  },
  {
   "cell_type": "code",
   "execution_count": 7,
   "metadata": {},
   "outputs": [
    {
     "name": "stdout",
     "output_type": "stream",
     "text": [
      "Embedding Shape: (288687, 200) \n",
      " Total words found: 116232 \n",
      " Percentage: 40.26229099335959\n"
     ]
    }
   ],
   "source": [
    "# now fill in the matrix, using the ordering from the\n",
    "#  keras word tokenizer from before\n",
    "EMBED_SIZE = 200\n",
    "found_words = 0\n",
    "embedding_matrix = np.zeros((len(word_index) + 1, EMBED_SIZE))\n",
    "for word, i in word_index.items():\n",
    "    embedding_vector = embeddings_index.get(word)\n",
    "    if embedding_vector is not None:\n",
    "        # words not found in embedding index will be ALL-ZEROS\n",
    "        embedding_matrix[i] = embedding_vector\n",
    "        found_words = found_words+1\n",
    "\n",
    "print(\"Embedding Shape:\",embedding_matrix.shape, \"\\n\",\n",
    "      \"Total words found:\",found_words, \"\\n\",\n",
    "      \"Percentage:\",100*found_words/embedding_matrix.shape[0])\n",
    "\n",
    "#End code from example notebook and keras docs"
   ]
  },
  {
   "cell_type": "code",
   "execution_count": 8,
   "metadata": {},
   "outputs": [],
   "source": [
    "from keras.layers import Embedding\n",
    "\n",
    "embedding_layer = Embedding(len(word_index) + 1,\n",
    "                            EMBED_SIZE,\n",
    "                            weights=[embedding_matrix],# here is the embedding getting saved\n",
    "                            input_length=X.shape[1],\n",
    "                            trainable=False)"
   ]
  },
  {
   "attachments": {},
   "cell_type": "markdown",
   "metadata": {},
   "source": [
    "#### Visualization and comparisons code"
   ]
  },
  {
   "cell_type": "code",
   "execution_count": 9,
   "metadata": {},
   "outputs": [],
   "source": [
    "import seaborn as sns\n",
    "import matplotlib.pyplot as plt\n",
    "\n",
    "def plot_performance(hist):\n",
    "    plt.figure(figsize=(14,6))\n",
    "\n",
    "    #accuracy plot\n",
    "    plt.subplot(1,2,1)\n",
    "    epochs = range(len(hist.epoch))\n",
    "    accuracy = hist.history[\"accuracy\"]\n",
    "    val_accuracy = hist.history[\"val_accuracy\"]\n",
    "\n",
    "    sns.lineplot(x=epochs, y=accuracy, label=\"Training accuracy\")\n",
    "    sns.lineplot(x=epochs, y=val_accuracy, label=\"Validation accuracy\")\n",
    "\n",
    "    plt.xlabel(\"Epoch\")\n",
    "    plt.ylabel(\"Accuracy\")\n",
    "    plt.legend()\n",
    "    plt.title(\"Accuracy vs. Epoch\")\n",
    "\n",
    "    #Loss plot\n",
    "    plt.subplot(1,2,2)\n",
    "    loss = hist.history[\"loss\"]\n",
    "    val_loss = hist.history[\"val_loss\"]\n",
    "\n",
    "    sns.lineplot(x=epochs, y=loss, label=\"Training loss\")\n",
    "    sns.lineplot(x=epochs, y=val_loss, label=\"Validation loss\")\n",
    "\n",
    "    plt.xlabel(\"Epoch\")\n",
    "    plt.ylabel(\"Loss\")\n",
    "    plt.legend()\n",
    "    plt.title(\"Loss vs. Epoch\")\n",
    "    plt.show()"
   ]
  },
  {
   "cell_type": "code",
   "execution_count": 10,
   "metadata": {},
   "outputs": [],
   "source": [
    "#McNemars test for stat comparison\n",
    "def get_contingency(yhat1, yhat2, y):\n",
    "    \"\"\"Generate the contingency matrix \"\"\"\n",
    "    contingency = np.zeros((2,2))\n",
    "    for i in range(len(y)): #slow but it works\n",
    "        if yhat1[i] == y[i] and yhat2[i] == y[i]: #A\n",
    "            contingency[0,0] += 1\n",
    "        elif yhat1[i] == y[i] and yhat2[i] != y[i]: #B\n",
    "            contingency[0,1] += 1\n",
    "        elif yhat1[i] != y[i] and yhat2[i] == y[i]: #C\n",
    "            contingency[1,0] += 1\n",
    "        elif yhat1[i] != y[i] and yhat2[i] != y[i]: #D\n",
    "            contingency[1,1] += 1\n",
    "\n",
    "    return contingency\n",
    "\n",
    "def mcnemar(yhat1, yhat2, y):\n",
    "    \"\"\"Get the chi2 value for McNemar's test\"\"\"\n",
    "    contingency = get_contingency(yhat1, yhat2, y)\n",
    "    B = contingency[0,1]\n",
    "    C = contingency[1,0]\n",
    "\n",
    "    return ((np.abs(B-C) - 1)**2) / (B + C)"
   ]
  },
  {
   "cell_type": "code",
   "execution_count": 11,
   "metadata": {},
   "outputs": [],
   "source": [
    "from sklearn.metrics import accuracy_score\n",
    "\n",
    "def model_report(model, y_test):\n",
    "    y_score = model.predict(X_test)\n",
    "    y_pred = np.round(y_score)\n",
    "    print(f\"Test set accuracy: {accuracy_score(y_test, y_pred)}\")\n",
    "    return y_pred"
   ]
  },
  {
   "attachments": {},
   "cell_type": "markdown",
   "metadata": {},
   "source": [
    "### 2.2 GRU Architecture\n",
    "\n",
    "The first RNN architecture tested here uses GRU, with the following architecture: (with inputs from the GloVe embedding layer), followed by two ReLu activated dense layerand a sigmoid activated \n",
    "* GloVe embedding layer\n",
    "* GRU\n",
    "* ReLu activated fully connected layer\n",
    "* 25% dropout\n",
    "* Sigmoid activated output layer\n",
    "\n",
    "The state size used in the GRU layer is changed to create two different models.\n",
    "\n",
    "#### 2.2.1 RNN 1\n",
    "\n",
    "The first implementation uses a state size of 64"
   ]
  },
  {
   "cell_type": "code",
   "execution_count": 12,
   "metadata": {},
   "outputs": [],
   "source": [
    "from keras.models import Sequential\n",
    "from keras.layers import GRU, Dense, Dropout\n",
    "\n",
    "rnn1 = Sequential([\n",
    "    embedding_layer,\n",
    "    GRU(64, dropout=0.2),\n",
    "    Dense(64, activation=\"relu\", kernel_initializer=\"he_normal\"),\n",
    "    Dropout(0.25),\n",
    "    Dense(1, activation=\"sigmoid\")\n",
    "])\n",
    "\n",
    "rnn1.compile(loss='binary_crossentropy',\n",
    "              optimizer='adam',\n",
    "              metrics=['accuracy'])"
   ]
  },
  {
   "cell_type": "code",
   "execution_count": 13,
   "metadata": {},
   "outputs": [],
   "source": [
    "h1 = rnn1.fit(X_train, y_train, batch_size=128, epochs=20, validation_data=(X_test, y_test), verbose=0)"
   ]
  },
  {
   "cell_type": "code",
   "execution_count": 21,
   "metadata": {},
   "outputs": [
    {
     "data": {
      "image/png": "[encoded data removed]",
      "text/plain": [
       "<Figure size 1400x600 with 2 Axes>"
      ]
     },
     "metadata": {},
     "output_type": "display_data"
    }
   ],
   "source": [
    "plot_performance(h1)\n",
    "y_pred1 = model_report(rnn1, y_test)"
   ]
  },
  {
   "attachments": {},
   "cell_type": "markdown",
   "metadata": {},
   "source": [
    "#### 2.2.3 RNN 2\n",
    "\n",
    "The second implementation of the GRU architecture uses a state size of 128"
   ]
  },
  {
   "cell_type": "code",
   "execution_count": null,
   "metadata": {},
   "outputs": [],
   "source": [
    "rnn2 = Sequential([\n",
    "    embedding_layer,\n",
    "    GRU(128, dropout=0.2),\n",
    "    Dense(128, activation=\"relu\", kernel_initializer=\"he_normal\"),\n",
    "    Dropout(0.25),\n",
    "    Dense(1, activation=\"sigmoid\")\n",
    "])\n",
    "\n",
    "rnn2.compile(loss='binary_crossentropy',\n",
    "              optimizer='adam',\n",
    "              metrics=['accuracy'])"
   ]
  },
  {
   "cell_type": "code",
   "execution_count": null,
   "metadata": {},
   "outputs": [],
   "source": [
    "h2 = rnn2.fit(X_train, y_train, batch_size=128, epochs=20, validation_data=(X_test, y_test), verbose=0)"
   ]
  },
  {
   "cell_type": "code",
   "execution_count": null,
   "metadata": {},
   "outputs": [],
   "source": [
    "plot_performance(h2)\n",
    "y_pred2 = model_report(rnn2, y_test)"
   ]
  },
  {
   "attachments": {},
   "cell_type": "markdown",
   "metadata": {},
   "source": [
    "### 2.3 LSTM Architecture"
   ]
  },
  {
   "cell_type": "code",
   "execution_count": null,
   "metadata": {},
   "outputs": [],
   "source": [
    "from keras.layers import LSTM\n",
    "\n",
    "rnn3 = Sequential([\n",
    "    embedding_layer,\n",
    "    LSTM(64, dropout=0.2),\n",
    "    Dense(64, activation=\"relu\", kernel_initializer=\"he_normal\"),\n",
    "    Dropout(0.25),\n",
    "    Dense(1, activation=\"sigmoid\")\n",
    "])\n",
    "\n",
    "rnn3.compile(loss='binary_crossentropy',\n",
    "              optimizer='adam',\n",
    "              metrics=['accuracy'])"
   ]
  },
  {
   "cell_type": "code",
   "execution_count": null,
   "metadata": {},
   "outputs": [],
   "source": [
    "h3 = rnn3.fit(X_train, y_train, batch_size=128, epochs=20, validation_data=(X_test, y_test), verbose=0)"
   ]
  },
  {
   "cell_type": "code",
   "execution_count": null,
   "metadata": {},
   "outputs": [],
   "source": [
    "plot_performance(h3)\n",
    "y_pred3 = model_report(rnn3, y_test)"
   ]
  },
  {
   "cell_type": "code",
   "execution_count": null,
   "metadata": {},
   "outputs": [],
   "source": [
    "rnn4 = Sequential([\n",
    "    embedding_layer,\n",
    "    LSTM(128, dropout=0.2),\n",
    "    Dense(128, activation=\"relu\", kernel_initializer=\"he_normal\"),\n",
    "    Dropout(0.25),\n",
    "    Dense(1, activation=\"sigmoid\")\n",
    "])\n",
    "\n",
    "rnn4.compile(loss='binary_crossentropy',\n",
    "              optimizer='adam',\n",
    "              metrics=['accuracy'])"
   ]
  },
  {
   "cell_type": "code",
   "execution_count": null,
   "metadata": {},
   "outputs": [],
   "source": [
    "h4 = rnn4.fit(X_train, y_train, batch_size=128, epochs=20, validation_data=(X_test, y_test), verbose=0)"
   ]
  },
  {
   "cell_type": "code",
   "execution_count": null,
   "metadata": {},
   "outputs": [],
   "source": [
    "plot_performance(h4)\n",
    "y_pred4 = model_report(rnn4, y_test)"
   ]
  }
 ],
 "metadata": {
  "kernelspec": {
   "display_name": "Python 3.9.15 ('mlenv')",
   "language": "python",
   "name": "python3"
  },
  "language_info": {
   "codemirror_mode": {
    "name": "ipython",
    "version": 3
   },
   "file_extension": ".py",
   "mimetype": "text/x-python",
   "name": "python",
   "nbconvert_exporter": "python",
   "pygments_lexer": "ipython3",
   "version": "3.9.15"
  },
  "orig_nbformat": 4,
  "vscode": {
   "interpreter": {
    "hash": "fa19cdced2ac4bbc06be4f742347ea77367a9fb5508c33920d19c2d05722a39f"
   }
  }
 },
 "nbformat": 4,
 "nbformat_minor": 2
}
